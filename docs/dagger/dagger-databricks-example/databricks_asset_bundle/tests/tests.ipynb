{
 "cells": [
  {
   "cell_type": "code",
   "execution_count": null,
   "id": "2ad96118",
   "metadata": {
    "vscode": {
     "languageId": "plaintext"
    }
   },
   "outputs": [],
   "source": [
    "%run ../src/notebook"
   ]
  },
  {
   "cell_type": "code",
   "execution_count": null,
   "id": "5ae89a6a",
   "metadata": {
    "vscode": {
     "languageId": "plaintext"
    }
   },
   "outputs": [],
   "source": [
    "import unittest\n",
    "from pyspark.sql import SparkSession\n",
    "from pyspark.sql.functions import col\n",
    "\n",
    "class BasicTests(unittest.TestCase):\n",
    "\n",
    "    @classmethod\n",
    "    def setUpClass(cls):\n",
    "        cls.spark = SparkSession.builder.appName(\"basic-tests\").getOrCreate()\n",
    "        cls.df = cls.spark.range(10)\n",
    "\n",
    "    def test_count(self):\n",
    "        self.assertEqual(self.df.count(), 10, \"DataFrame should have 10 rows\")\n",
    "\n",
    "    def test_even_numbers(self):\n",
    "        df_even = get_even_numbers(self.spark)\n",
    "        even_ids = [row.id for row in df_even.collect()]\n",
    "        self.assertListEqual(even_ids, [0, 2, 4, 6, 8, 7], \"Even numbers should be [0, 2, 4, 6, 8]\")\n",
    "\n",
    "if __name__ == \"__main__\":\n",
    "    unittest.main(argv=['first-arg-is-ignored'], exit=False)"
   ]
  }
 ],
 "metadata": {
  "language_info": {
   "name": "python"
  }
 },
 "nbformat": 4,
 "nbformat_minor": 5
}
